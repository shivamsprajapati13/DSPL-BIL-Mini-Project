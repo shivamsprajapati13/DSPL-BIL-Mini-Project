{
 "cells": [
  {
   "cell_type": "code",
   "execution_count": 1,
   "id": "6d98e99d",
   "metadata": {},
   "outputs": [],
   "source": [
    "import numpy as np \n",
    "import cv2\n",
    "import os\n",
    "import shutil\n",
    "import itertools\n",
    "from sklearn.utils import shuffle\n",
    "import imutils\n",
    "import matplotlib.pyplot as plt\n",
    "from sklearn.preprocessing import LabelBinarizer\n",
    "from sklearn.model_selection import train_test_split\n",
    "# from sklearn.metrics import accuracy_score, confusion_matrix\n",
    "\n",
    "import plotly.graph_objs as go\n",
    "from plotly.offline import init_notebook_mode, iplot\n",
    "from plotly import tools\n",
    "\n",
    "from tensorflow.keras.preprocessing.image import ImageDataGenerator\n",
    "from tensorflow.keras.applications.vgg16 import VGG16, preprocess_input\n",
    "from tensorflow.keras import layers\n",
    "from tensorflow.keras.models import Model, Sequential, load_model\n",
    "from tensorflow.keras.optimizers import Adam, RMSprop\n",
    "from tensorflow.keras.callbacks import EarlyStopping"
   ]
  },
  {
   "cell_type": "code",
   "execution_count": 2,
   "id": "5f4baa29",
   "metadata": {},
   "outputs": [],
   "source": [
    "IMG_PATH = 'brain_tumor_dataset/'\n",
    "\n",
    "# split the data by train/val/test\n",
    "for CLASS in os.listdir(IMG_PATH):\n",
    "      IMG_NUM = len(os.listdir(IMG_PATH + CLASS))\n",
    "      for (n, FILE_NAME) in enumerate(os.listdir(IMG_PATH + CLASS)):\n",
    "          img = IMG_PATH + CLASS + '/' + FILE_NAME\n",
    "          if n < 5:\n",
    "              shutil.copy(img, 'TEST/' + CLASS.upper() + '/' + FILE_NAME)\n",
    "          elif n < 0.8*IMG_NUM:\n",
    "              shutil.copy(img, 'TRAIN/'+ CLASS.upper() + '/' + FILE_NAME)\n",
    "          else:\n",
    "              shutil.copy(img, 'VAL/'+ CLASS.upper() + '/' + FILE_NAME)"
   ]
  },
  {
   "cell_type": "code",
   "execution_count": 3,
   "id": "70ee4522",
   "metadata": {},
   "outputs": [],
   "source": [
    "def load_data(dir_path, img_size = (100,100)):\n",
    "    X = []\n",
    "    y = []\n",
    "    for yesorno in (sorted(os.listdir(dir_path))):\n",
    "        for imgname in os.listdir(dir_path + yesorno):\n",
    "            img = cv2.imread(dir_path + yesorno + '/' + imgname)\n",
    "            X.append(img)\n",
    "            if yesorno == 'NO':\n",
    "              y.append(0)\n",
    "            else:\n",
    "              y.append(1)\n",
    "    X = np.array(X)\n",
    "    y = np.array(y)\n",
    "    print(f'{len(X)} images loaded from {dir_path} directory.')\n",
    "    return X, y\n",
    "\n",
    "\n",
    "\n",
    "def plot_confusion_matrix(cm, classes,normalize = False,title = 'Confusion matrix',cmap = plt.cm.Blues):\n",
    "    plt.figure(figsize = (6,6))\n",
    "    plt.imshow(cm, interpolation='nearest', cmap = cmap)\n",
    "    plt.title(title)\n",
    "    plt.colorbar()\n",
    "    tick_marks = np.arange(len(classes))\n",
    "    plt.xticks(tick_marks, classes, rotation=90)\n",
    "    plt.yticks(tick_marks, classes)\n",
    "    if normalize:\n",
    "        cm = cm.astype('float') / cm.sum(axis=1)[:, np.newaxis]\n",
    "\n",
    "    thresh = cm.max() / 2.\n",
    "    cm = np.round(cm,2)\n",
    "    for i, j in itertools.product(range(cm.shape[0]), range(cm.shape[1])):\n",
    "        plt.text(j, i, cm[i, j],horizontalalignment = \"center\",color = \"white\" if cm[i, j] > thresh else \"black\")\n",
    "\n",
    "    plt.tight_layout()\n",
    "    plt.ylabel('True label')\n",
    "    plt.xlabel('Predicted label')\n",
    "    plt.show()"
   ]
  },
  {
   "cell_type": "code",
   "execution_count": 4,
   "id": "fe1996a2",
   "metadata": {},
   "outputs": [
    {
     "name": "stdout",
     "output_type": "stream",
     "text": [
      "193 images loaded from TRAIN/ directory.\n",
      "10 images loaded from TEST/ directory.\n",
      "50 images loaded from VAL/ directory.\n"
     ]
    },
    {
     "name": "stderr",
     "output_type": "stream",
     "text": [
      "C:\\Users\\admin\\AppData\\Local\\Temp/ipykernel_9200/2678781355.py:12: VisibleDeprecationWarning:\n",
      "\n",
      "Creating an ndarray from ragged nested sequences (which is a list-or-tuple of lists-or-tuples-or ndarrays with different lengths or shapes) is deprecated. If you meant to do this, you must specify 'dtype=object' when creating the ndarray.\n",
      "\n"
     ]
    }
   ],
   "source": [
    "TRAIN_DIR = 'TRAIN/'\n",
    "TEST_DIR = 'TEST/'\n",
    "VAL_DIR = 'VAL/'\n",
    "IMG_SIZE = (224,224)\n",
    "\n",
    "# use predefined function to load the image data into workspace\n",
    "X_train, y_train = load_data(TRAIN_DIR, IMG_SIZE)\n",
    "X_test, y_test = load_data(TEST_DIR, IMG_SIZE)\n",
    "X_val, y_val = load_data(VAL_DIR, IMG_SIZE)"
   ]
  },
  {
   "cell_type": "code",
   "execution_count": 5,
   "id": "04c6b574",
   "metadata": {},
   "outputs": [],
   "source": [
    "def crop_imgs(set_name, add_pixels_value=0):\n",
    "    set_new = []\n",
    "    for img in set_name:\n",
    "        gray = cv2.cvtColor(img, cv2.COLOR_RGB2GRAY)\n",
    "        gray = cv2.GaussianBlur(gray, (5, 5), 0)\n",
    "\n",
    "        # threshold the image, then perform a series of erosions +\n",
    "        # dilations to remove any small regions of noise\n",
    "        thresh = cv2.threshold(gray, 45, 255, cv2.THRESH_BINARY)[1]\n",
    "        thresh = cv2.erode(thresh, None, iterations = 2)\n",
    "        thresh = cv2.dilate(thresh, None, iterations = 2)\n",
    "\n",
    "        # find contours in thresholded image, then grab the largest one\n",
    "        cnts = cv2.findContours(thresh.copy(), cv2.RETR_EXTERNAL, cv2.CHAIN_APPROX_SIMPLE)\n",
    "        cnts = imutils.grab_contours(cnts)\n",
    "        c = max(cnts, key=cv2.contourArea)\n",
    "\n",
    "        # find the extreme points\n",
    "        extLeft = tuple(c[c[:, :, 0].argmin()][0])\n",
    "        extRight = tuple(c[c[:, :, 0].argmax()][0])\n",
    "        extTop = tuple(c[c[:, :, 1].argmin()][0])\n",
    "        extBot = tuple(c[c[:, :, 1].argmax()][0])\n",
    "\n",
    "        ADD_PIXELS = add_pixels_value\n",
    "        new_img = img[extTop[1]-ADD_PIXELS:extBot[1]+ADD_PIXELS, extLeft[0]-ADD_PIXELS:extRight[0]+ADD_PIXELS].copy()\n",
    "        set_new.append(new_img)\n",
    "\n",
    "    return np.array(set_new)"
   ]
  },
  {
   "cell_type": "code",
   "execution_count": 6,
   "id": "bb2b55a3",
   "metadata": {},
   "outputs": [],
   "source": [
    "img = cv2.imread('brain_tumor_dataset/yes/Y108.jpg')\n",
    "img = cv2.resize(img,dsize = IMG_SIZE,interpolation = cv2.INTER_CUBIC)\n",
    "gray = cv2.cvtColor(img, cv2.COLOR_RGB2GRAY)\n",
    "gray = cv2.GaussianBlur(gray, (5, 5), 0)\n",
    "\n",
    "# threshold the image, then perform a series of erosions +\n",
    "# dilations to remove any small regions of noise\n",
    "thresh = cv2.threshold(gray, 45, 255, cv2.THRESH_BINARY)[1]\n",
    "thresh = cv2.erode(thresh, None, iterations=2)\n",
    "thresh = cv2.dilate(thresh, None, iterations=2)\n",
    "\n",
    "# find contours in thresholded image, then grab the largest one\n",
    "cnts = cv2.findContours(thresh.copy(), cv2.RETR_EXTERNAL, cv2.CHAIN_APPROX_SIMPLE)\n",
    "cnts = imutils.grab_contours(cnts)\n",
    "c = max(cnts, key = cv2.contourArea)\n",
    "\n",
    "# find the extreme points\n",
    "extLeft = tuple(c[c[:, :, 0].argmin()][0])\n",
    "extRight = tuple(c[c[:, :, 0].argmax()][0])\n",
    "extTop = tuple(c[c[:, :, 1].argmin()][0])\n",
    "extBot = tuple(c[c[:, :, 1].argmax()][0])\n",
    "\n",
    "# add contour on the image\n",
    "img_cnt = cv2.drawContours(img.copy(), [c], -1, (0, 255, 255), 4)\n",
    "\n",
    "# add extreme points\n",
    "img_pnt = cv2.circle(img_cnt.copy(), extLeft, 8, (0, 0, 255), -1)\n",
    "img_pnt = cv2.circle(img_pnt, extRight, 8, (0, 255, 0), -1)\n",
    "img_pnt = cv2.circle(img_pnt, extTop, 8, (255, 0, 0), -1)\n",
    "img_pnt = cv2.circle(img_pnt, extBot, 8, (255, 255, 0), -1)\n",
    "\n",
    "# crop\n",
    "ADD_PIXELS = 0\n",
    "new_img = img[extTop[1]-ADD_PIXELS:extBot[1]+ADD_PIXELS, extLeft[0]-ADD_PIXELS:extRight[0]+ADD_PIXELS].copy()"
   ]
  },
  {
   "cell_type": "code",
   "execution_count": 7,
   "id": "50bbee6c",
   "metadata": {},
   "outputs": [
    {
     "name": "stderr",
     "output_type": "stream",
     "text": [
      "C:\\Users\\admin\\AppData\\Local\\Temp/ipykernel_9200/1069890150.py:28: VisibleDeprecationWarning:\n",
      "\n",
      "Creating an ndarray from ragged nested sequences (which is a list-or-tuple of lists-or-tuples-or ndarrays with different lengths or shapes) is deprecated. If you meant to do this, you must specify 'dtype=object' when creating the ndarray.\n",
      "\n"
     ]
    }
   ],
   "source": [
    "X_train_crop = crop_imgs(set_name = X_train)\n",
    "X_val_crop = crop_imgs(set_name = X_val)\n",
    "X_test_crop = crop_imgs(set_name = X_test)"
   ]
  },
  {
   "cell_type": "code",
   "execution_count": 8,
   "id": "483fda45",
   "metadata": {},
   "outputs": [],
   "source": [
    "def save_new_images(x_set, y_set, folder_name):\n",
    "    i = 0\n",
    "    for (img, imclass) in zip(x_set, y_set):\n",
    "        if imclass == 0:\n",
    "            cv2.imwrite(folder_name+'NO/'+str(i)+'.jpg', img)\n",
    "        else:\n",
    "            cv2.imwrite(folder_name+'YES/'+str(i)+'.jpg', img)\n",
    "        i += 1"
   ]
  },
  {
   "cell_type": "code",
   "execution_count": 9,
   "id": "b8a9714f",
   "metadata": {},
   "outputs": [],
   "source": [
    "# saving new images to the folder\n",
    "save_new_images(X_train_crop, y_train, folder_name = 'TRAIN_CROP/')\n",
    "save_new_images(X_val_crop, y_val, folder_name = 'VAL_CROP/')\n",
    "save_new_images(X_test_crop, y_test, folder_name = 'TEST_CROP/')"
   ]
  },
  {
   "cell_type": "code",
   "execution_count": 10,
   "id": "d0916fc1",
   "metadata": {},
   "outputs": [],
   "source": [
    "def preprocess_imgs(set_name, img_size):\n",
    "    set_new = []\n",
    "    for img in set_name:\n",
    "        img = cv2.resize(img,dsize = img_size,interpolation = cv2.INTER_CUBIC)\n",
    "        set_new.append(preprocess_input(img))\n",
    "    return np.array(set_new)"
   ]
  },
  {
   "cell_type": "code",
   "execution_count": 11,
   "id": "d110311d",
   "metadata": {},
   "outputs": [],
   "source": [
    "X_train_prep = preprocess_imgs(set_name = X_train_crop, img_size = IMG_SIZE)\n",
    "X_test_prep = preprocess_imgs(set_name = X_test_crop, img_size = IMG_SIZE)\n",
    "X_val_prep = preprocess_imgs(set_name = X_val_crop, img_size = IMG_SIZE)\n",
    "\n",
    "\n",
    "X_train_prep,y_train = shuffle(X_train_prep,y_train,random_state = 0)\n",
    "X_test_prep,y_test = shuffle(X_test_prep,y_test,random_state = 0)\n",
    "X_val_prep,y_val = shuffle(X_val_prep,y_val,random_state = 0)"
   ]
  },
  {
   "cell_type": "code",
   "execution_count": 12,
   "id": "20e9718c",
   "metadata": {},
   "outputs": [],
   "source": [
    "# set the paramters we want to change randomly\n",
    "demo_datagen = ImageDataGenerator(rotation_range = 15,width_shift_range = 0.05,height_shift_range = 0.05,\n",
    "                                rescale = 1./255,shear_range = 0.05,brightness_range = [0.1, 1.5],horizontal_flip = True,\n",
    "                                  vertical_flip = True)"
   ]
  },
  {
   "cell_type": "code",
   "execution_count": 13,
   "id": "9ceef28c",
   "metadata": {},
   "outputs": [
    {
     "name": "stdout",
     "output_type": "stream",
     "text": [
      "Found 287 images belonging to 2 classes.\n",
      "Found 74 images belonging to 2 classes.\n"
     ]
    }
   ],
   "source": [
    "TRAIN_DIR = 'TRAIN_CROP/'\n",
    "VAL_DIR = 'VAL_CROP/'\n",
    "\n",
    "train_datagen = ImageDataGenerator(rotation_range = 15,width_shift_range = 0.1,height_shift_range = 0.1,\n",
    "                                   shear_range = 0.1,brightness_range = [0.5, 1.5],horizontal_flip = True,\n",
    "                                   vertical_flip = True,preprocessing_function = preprocess_input)\n",
    "\n",
    "test_datagen = ImageDataGenerator(preprocessing_function=preprocess_input)\n",
    "\n",
    "\n",
    "train_generator = train_datagen.flow_from_directory(TRAIN_DIR,color_mode = 'rgb',target_size = IMG_SIZE,batch_size = 1,\n",
    "                                                    class_mode = 'binary')\n",
    "\n",
    "\n",
    "validation_generator = test_datagen.flow_from_directory(VAL_DIR,color_mode = 'rgb',target_size = IMG_SIZE,batch_size = 1,\n",
    "                                                        class_mode = 'binary')"
   ]
  },
  {
   "cell_type": "code",
   "execution_count": 14,
   "id": "239507dd",
   "metadata": {},
   "outputs": [],
   "source": [
    "# load base model\n",
    "vgg16_weight_path = 'vgg16_weights_tf_dim_ordering_tf_kernels_notop.h5'\n",
    "base_model = VGG16(weights=vgg16_weight_path,include_top=False, input_shape=IMG_SIZE + (3,))"
   ]
  },
  {
   "cell_type": "code",
   "execution_count": 15,
   "id": "53a0bce2",
   "metadata": {},
   "outputs": [
    {
     "name": "stdout",
     "output_type": "stream",
     "text": [
      "Model: \"sequential\"\n",
      "_________________________________________________________________\n",
      " Layer (type)                Output Shape              Param #   \n",
      "=================================================================\n",
      " vgg16 (Functional)          (None, 7, 7, 512)         14714688  \n",
      "                                                                 \n",
      " flatten (Flatten)           (None, 25088)             0         \n",
      "                                                                 \n",
      " dropout (Dropout)           (None, 25088)             0         \n",
      "                                                                 \n",
      " dense (Dense)               (None, 1)                 25089     \n",
      "                                                                 \n",
      "=================================================================\n",
      "Total params: 14,739,777\n",
      "Trainable params: 25,089\n",
      "Non-trainable params: 14,714,688\n",
      "_________________________________________________________________\n"
     ]
    },
    {
     "name": "stderr",
     "output_type": "stream",
     "text": [
      "c:\\users\\admin\\appdata\\local\\programs\\python\\python39\\lib\\site-packages\\keras\\optimizer_v2\\rmsprop.py:130: UserWarning:\n",
      "\n",
      "The `lr` argument is deprecated, use `learning_rate` instead.\n",
      "\n"
     ]
    }
   ],
   "source": [
    "model = Sequential()\n",
    "model.add(base_model)\n",
    "model.add(layers.Flatten())\n",
    "model.add(layers.Dropout(0.5))\n",
    "model.add(layers.Dense(1, activation = 'sigmoid'))\n",
    "\n",
    "model.layers[0].trainable = False\n",
    "\n",
    "model.compile(loss = 'binary_crossentropy',optimizer = RMSprop(lr = 1e-4),metrics = ['accuracy'])\n",
    "\n",
    "model.summary()"
   ]
  },
  {
   "cell_type": "code",
   "execution_count": 19,
   "id": "ac29e6ca",
   "metadata": {},
   "outputs": [
    {
     "name": "stderr",
     "output_type": "stream",
     "text": [
      "C:\\Users\\admin\\AppData\\Local\\Temp/ipykernel_9200/3561665350.py:4: UserWarning:\n",
      "\n",
      "`Model.fit_generator` is deprecated and will be removed in a future version. Please use `Model.fit`, which supports generators.\n",
      "\n"
     ]
    },
    {
     "name": "stdout",
     "output_type": "stream",
     "text": [
      "Epoch 1/30\n",
      "193/193 [==============================] - 59s 292ms/step - loss: 5.3134 - accuracy: 0.5233 - val_loss: 3.5968 - val_accuracy: 0.5200\n",
      "Epoch 2/30\n",
      "193/193 [==============================] - 57s 287ms/step - loss: 5.5814 - accuracy: 0.5751 - val_loss: 2.1191 - val_accuracy: 0.5600\n",
      "Epoch 3/30\n",
      "193/193 [==============================] - 57s 291ms/step - loss: 5.4710 - accuracy: 0.5337 - val_loss: 2.4204 - val_accuracy: 0.6000\n",
      "Epoch 4/30\n",
      "193/193 [==============================] - 58s 292ms/step - loss: 4.7606 - accuracy: 0.6218 - val_loss: 2.1790 - val_accuracy: 0.5400\n",
      "Epoch 5/30\n",
      "193/193 [==============================] - 58s 295ms/step - loss: 5.3680 - accuracy: 0.5855 - val_loss: 2.6966 - val_accuracy: 0.5400\n",
      "Epoch 6/30\n",
      "193/193 [==============================] - 58s 292ms/step - loss: 4.3186 - accuracy: 0.5699 - val_loss: 2.8367 - val_accuracy: 0.5200\n",
      "Epoch 7/30\n",
      "193/193 [==============================] - 58s 294ms/step - loss: 4.2175 - accuracy: 0.5907 - val_loss: 2.8457 - val_accuracy: 0.7000\n",
      "Epoch 8/30\n",
      "193/193 [==============================] - 58s 293ms/step - loss: 5.5043 - accuracy: 0.5181 - val_loss: 2.6588 - val_accuracy: 0.6000\n",
      "Epoch 9/30\n",
      "193/193 [==============================] - 58s 291ms/step - loss: 4.0406 - accuracy: 0.6269 - val_loss: 2.3864 - val_accuracy: 0.5800\n",
      "Epoch 10/30\n",
      "193/193 [==============================] - 58s 291ms/step - loss: 4.7841 - accuracy: 0.5855 - val_loss: 2.8527 - val_accuracy: 0.5600\n",
      "Epoch 11/30\n",
      "193/193 [==============================] - 60s 302ms/step - loss: 5.5133 - accuracy: 0.5181 - val_loss: 3.3734 - val_accuracy: 0.5600\n",
      "Epoch 12/30\n",
      "193/193 [==============================] - 58s 293ms/step - loss: 4.3130 - accuracy: 0.6321 - val_loss: 2.7512 - val_accuracy: 0.5800\n",
      "Epoch 13/30\n",
      "193/193 [==============================] - 58s 294ms/step - loss: 3.8747 - accuracy: 0.6425 - val_loss: 2.1604 - val_accuracy: 0.6800\n"
     ]
    }
   ],
   "source": [
    "EPOCHS = 30\n",
    "es = EarlyStopping(monitor = 'val_accuracy', mode = 'max',patience = 6)\n",
    "\n",
    "history = model.fit_generator(train_generator,steps_per_epoch = 193,epochs = EPOCHS,validation_data = validation_generator,\n",
    "                              validation_steps = 50,callbacks = [es],)\n",
    "model.save('braintumor.h5')"
   ]
  },
  {
   "cell_type": "code",
   "execution_count": 20,
   "id": "1baf30f0",
   "metadata": {},
   "outputs": [
    {
     "name": "stderr",
     "output_type": "stream",
     "text": [
      "Clipping input data to the valid range for imshow with RGB data ([0..1] for floats or [0..255] for integers).\n"
     ]
    },
    {
     "name": "stdout",
     "output_type": "stream",
     "text": [
      "Brain is having the tumor\n"
     ]
    },
    {
     "data": {
      "image/png": "[encoded data removed]",
      "text/plain": [
       "<Figure size 432x288 with 2 Axes>"
      ]
     },
     "metadata": {
      "needs_background": "light"
     },
     "output_type": "display_data"
    }
   ],
   "source": [
    "IMG_SIZE = (224,224)\n",
    "\n",
    "# live test\n",
    "\n",
    "model = load_model('braintumor.h5')\n",
    "testimgpath = 'brain_tumor_dataset/yes/Y1.jpg'\n",
    "\n",
    "def preprocess_imgs(set_name, img_size):\n",
    "    \"\"\"\n",
    "    Resize and apply VGG-15 preprocessing\n",
    "    \"\"\"\n",
    "    set_new = []\n",
    "    for img in set_name:\n",
    "        img = cv2.resize(img,dsize=img_size,interpolation=cv2.INTER_CUBIC)\n",
    "        set_new.append(preprocess_input(img))\n",
    "    return np.array(set_new)\n",
    "\n",
    "\n",
    "\n",
    "def crop_imgs(set_name, add_pixels_value=0):\n",
    "    \"\"\"\n",
    "    Finds the extreme points on the image and crops the rectangular out of them\n",
    "    \"\"\"\n",
    "    set_new = []\n",
    "    for img in set_name:\n",
    "        gray = cv2.cvtColor(img, cv2.COLOR_RGB2GRAY)\n",
    "        gray = cv2.GaussianBlur(gray, (5, 5), 0)\n",
    "\n",
    "        # threshold the image, then perform a series of erosions +\n",
    "        # dilations to remove any small regions of noise\n",
    "        thresh = cv2.threshold(gray, 45, 255, cv2.THRESH_BINARY)[1]\n",
    "        thresh = cv2.erode(thresh, None, iterations=2)\n",
    "        thresh = cv2.dilate(thresh, None, iterations=2)\n",
    "\n",
    "        # find contours in thresholded image, then grab the largest one\n",
    "        cnts = cv2.findContours(thresh.copy(), cv2.RETR_EXTERNAL, cv2.CHAIN_APPROX_SIMPLE)\n",
    "        cnts = imutils.grab_contours(cnts)\n",
    "        c = max(cnts, key=cv2.contourArea)\n",
    "\n",
    "        # find the extreme points\n",
    "        extLeft = tuple(c[c[:, :, 0].argmin()][0])\n",
    "        extRight = tuple(c[c[:, :, 0].argmax()][0])\n",
    "        extTop = tuple(c[c[:, :, 1].argmin()][0])\n",
    "        extBot = tuple(c[c[:, :, 1].argmax()][0])\n",
    "\n",
    "        ADD_PIXELS = add_pixels_value\n",
    "        new_img = img[extTop[1]-ADD_PIXELS:extBot[1]+ADD_PIXELS, extLeft[0]-ADD_PIXELS:extRight[0]+ADD_PIXELS].copy()\n",
    "        set_new.append(new_img)\n",
    "\n",
    "    return np.array(set_new)\n",
    "\n",
    "\n",
    "#read\n",
    "plt.subplot(121)\n",
    "test_img = cv2.imread(testimgpath)\n",
    "plt.imshow(test_img)\n",
    "\n",
    "#resize\n",
    "# plt.subplot(132)\n",
    "# test_img = cv2.resize(test_img,dsize=IMG_SIZE,interpolation=cv2.INTER_CUBIC)\n",
    "# plt.imshow(test_img)\n",
    "\n",
    "#crop and resize and preprocess for vgg\n",
    "plt.subplot(122)\n",
    "test_img = crop_imgs([test_img])\n",
    "test_img = test_img.reshape(test_img.shape[1:])\n",
    "test_img = preprocess_imgs([test_img],IMG_SIZE)\n",
    "plt.imshow(test_img.reshape(test_img.shape[1:]))\n",
    "\n",
    "#make prediction\n",
    "pred = model.predict(test_img)\n",
    "if pred<0.5:\n",
    "  print('No Tumor')\n",
    "else:\n",
    "  print('Brain is having the tumor')"
   ]
  },
  {
   "cell_type": "code",
   "execution_count": null,
   "id": "38d8d74f",
   "metadata": {},
   "outputs": [],
   "source": []
  }
 ],
 "metadata": {
  "kernelspec": {
   "display_name": "Python 3 (ipykernel)",
   "language": "python",
   "name": "python3"
  },
  "language_info": {
   "codemirror_mode": {
    "name": "ipython",
    "version": 3
   },
   "file_extension": ".py",
   "mimetype": "text/x-python",
   "name": "python",
   "nbconvert_exporter": "python",
   "pygments_lexer": "ipython3",
   "version": "3.9.6"
  }
 },
 "nbformat": 4,
 "nbformat_minor": 5
}
